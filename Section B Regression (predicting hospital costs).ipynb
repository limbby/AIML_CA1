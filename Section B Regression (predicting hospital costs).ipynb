{
 "cells": [
  {
   "cell_type": "markdown",
   "id": "dbbd33b0",
   "metadata": {},
   "source": [
    "# Regression on predicting hospital costs based on various patient information"
   ]
  },
  {
   "cell_type": "markdown",
   "id": "581b2497",
   "metadata": {},
   "source": [
    "# 0. Importing required functions"
   ]
  },
  {
   "cell_type": "code",
   "execution_count": 1,
   "id": "af04f328",
   "metadata": {},
   "outputs": [],
   "source": [
    "# Import pandas that allows us to view and manipulate data\n",
    "import numpy as np\n",
    "import pandas as pd\n",
    "\n",
    "# Import scaler\n",
    "from sklearn.preprocessing import StandardScaler\n",
    "\n",
    "# Import datasets(s), and function that allows us to do train-test split\n",
    "from sklearn.datasets import load_iris\n",
    "from sklearn.model_selection import train_test_split, cross_val_score, StratifiedKFold, KFold\n",
    "from sklearn.model_selection import RandomizedSearchCV, GridSearchCV\n",
    "\n",
    "# Import model, and functions to perform model evaluation\n",
    "from sklearn.metrics import mean_absolute_percentage_error, mean_squared_error, r2_score, mean_absolute_error\n",
    "from sklearn.linear_model import LinearRegression\n",
    "from sklearn.ensemble import RandomForestRegressor\n",
    "from sklearn.tree import DecisionTreeRegressor\n",
    "from sklearn.svm import SVR\n",
    "\n",
    "from sklearn.linear_model import LassoCV, RidgeCV\n",
    "\n",
    "from sklearn.dummy import DummyRegressor\n",
    "\n",
    "# Import visualisation libraries\n",
    "import seaborn as sns\n",
    "import matplotlib.pyplot as plt\n",
    "\n",
    "import warnings\n",
    "warnings.filterwarnings('ignore')"
   ]
  },
  {
   "cell_type": "code",
   "execution_count": 2,
   "id": "ffcf2cef",
   "metadata": {},
   "outputs": [],
   "source": [
    "import os\n",
    "\n",
    "os.chdir('C:\\\\SP\\\\Year 1 Sem 2\\\\Artificial Intelligence and Machine Learning (AIML)\\\\CA1\\\\Datasets')"
   ]
  },
  {
   "cell_type": "markdown",
   "id": "470f90d7",
   "metadata": {},
   "source": [
    "# 1. Preprocessing the dataset"
   ]
  },
  {
   "cell_type": "code",
   "execution_count": 3,
   "id": "92452c11",
   "metadata": {},
   "outputs": [
    {
     "data": {
      "text/html": [
       "<div>\n",
       "<style scoped>\n",
       "    .dataframe tbody tr th:only-of-type {\n",
       "        vertical-align: middle;\n",
       "    }\n",
       "\n",
       "    .dataframe tbody tr th {\n",
       "        vertical-align: top;\n",
       "    }\n",
       "\n",
       "    .dataframe thead th {\n",
       "        text-align: right;\n",
       "    }\n",
       "</style>\n",
       "<table border=\"1\" class=\"dataframe\">\n",
       "  <thead>\n",
       "    <tr style=\"text-align: right;\">\n",
       "      <th></th>\n",
       "      <th>ID</th>\n",
       "      <th>Age</th>\n",
       "      <th>Gender</th>\n",
       "      <th>BMI</th>\n",
       "      <th>Smoker</th>\n",
       "      <th>Region</th>\n",
       "      <th>Cost ($)</th>\n",
       "    </tr>\n",
       "  </thead>\n",
       "  <tbody>\n",
       "    <tr>\n",
       "      <th>0</th>\n",
       "      <td>1</td>\n",
       "      <td>19</td>\n",
       "      <td>female</td>\n",
       "      <td>27.900</td>\n",
       "      <td>yes</td>\n",
       "      <td>southwest</td>\n",
       "      <td>16884.92400</td>\n",
       "    </tr>\n",
       "    <tr>\n",
       "      <th>1</th>\n",
       "      <td>2</td>\n",
       "      <td>18</td>\n",
       "      <td>male</td>\n",
       "      <td>33.770</td>\n",
       "      <td>no</td>\n",
       "      <td>southeast</td>\n",
       "      <td>1725.55230</td>\n",
       "    </tr>\n",
       "    <tr>\n",
       "      <th>2</th>\n",
       "      <td>3</td>\n",
       "      <td>28</td>\n",
       "      <td>male</td>\n",
       "      <td>33.000</td>\n",
       "      <td>no</td>\n",
       "      <td>southeast</td>\n",
       "      <td>4449.46200</td>\n",
       "    </tr>\n",
       "    <tr>\n",
       "      <th>3</th>\n",
       "      <td>4</td>\n",
       "      <td>33</td>\n",
       "      <td>male</td>\n",
       "      <td>22.705</td>\n",
       "      <td>no</td>\n",
       "      <td>northwest</td>\n",
       "      <td>21984.47061</td>\n",
       "    </tr>\n",
       "    <tr>\n",
       "      <th>4</th>\n",
       "      <td>5</td>\n",
       "      <td>32</td>\n",
       "      <td>male</td>\n",
       "      <td>28.880</td>\n",
       "      <td>no</td>\n",
       "      <td>northwest</td>\n",
       "      <td>3866.85520</td>\n",
       "    </tr>\n",
       "    <tr>\n",
       "      <th>...</th>\n",
       "      <td>...</td>\n",
       "      <td>...</td>\n",
       "      <td>...</td>\n",
       "      <td>...</td>\n",
       "      <td>...</td>\n",
       "      <td>...</td>\n",
       "      <td>...</td>\n",
       "    </tr>\n",
       "    <tr>\n",
       "      <th>1333</th>\n",
       "      <td>1334</td>\n",
       "      <td>50</td>\n",
       "      <td>male</td>\n",
       "      <td>30.970</td>\n",
       "      <td>no</td>\n",
       "      <td>northwest</td>\n",
       "      <td>10600.54830</td>\n",
       "    </tr>\n",
       "    <tr>\n",
       "      <th>1334</th>\n",
       "      <td>1335</td>\n",
       "      <td>18</td>\n",
       "      <td>female</td>\n",
       "      <td>31.920</td>\n",
       "      <td>no</td>\n",
       "      <td>northeast</td>\n",
       "      <td>2205.98080</td>\n",
       "    </tr>\n",
       "    <tr>\n",
       "      <th>1335</th>\n",
       "      <td>1336</td>\n",
       "      <td>18</td>\n",
       "      <td>female</td>\n",
       "      <td>36.850</td>\n",
       "      <td>no</td>\n",
       "      <td>southeast</td>\n",
       "      <td>1629.83350</td>\n",
       "    </tr>\n",
       "    <tr>\n",
       "      <th>1336</th>\n",
       "      <td>1337</td>\n",
       "      <td>21</td>\n",
       "      <td>female</td>\n",
       "      <td>25.800</td>\n",
       "      <td>no</td>\n",
       "      <td>southwest</td>\n",
       "      <td>2007.94500</td>\n",
       "    </tr>\n",
       "    <tr>\n",
       "      <th>1337</th>\n",
       "      <td>1338</td>\n",
       "      <td>61</td>\n",
       "      <td>female</td>\n",
       "      <td>29.070</td>\n",
       "      <td>yes</td>\n",
       "      <td>northwest</td>\n",
       "      <td>29141.36030</td>\n",
       "    </tr>\n",
       "  </tbody>\n",
       "</table>\n",
       "<p>1338 rows × 7 columns</p>\n",
       "</div>"
      ],
      "text/plain": [
       "        ID  Age  Gender     BMI Smoker     Region     Cost ($)\n",
       "0        1   19  female  27.900    yes  southwest  16884.92400\n",
       "1        2   18    male  33.770     no  southeast   1725.55230\n",
       "2        3   28    male  33.000     no  southeast   4449.46200\n",
       "3        4   33    male  22.705     no  northwest  21984.47061\n",
       "4        5   32    male  28.880     no  northwest   3866.85520\n",
       "...    ...  ...     ...     ...    ...        ...          ...\n",
       "1333  1334   50    male  30.970     no  northwest  10600.54830\n",
       "1334  1335   18  female  31.920     no  northeast   2205.98080\n",
       "1335  1336   18  female  36.850     no  southeast   1629.83350\n",
       "1336  1337   21  female  25.800     no  southwest   2007.94500\n",
       "1337  1338   61  female  29.070    yes  northwest  29141.36030\n",
       "\n",
       "[1338 rows x 7 columns]"
      ]
     },
     "execution_count": 3,
     "metadata": {},
     "output_type": "execute_result"
    }
   ],
   "source": [
    "# loading the dataset into df\n",
    "df = pd.read_csv('CA1-Regression-Dataset.csv') \n",
    "\n",
    "df"
   ]
  },
  {
   "cell_type": "code",
   "execution_count": 4,
   "id": "95cd8b10",
   "metadata": {},
   "outputs": [
    {
     "data": {
      "text/plain": [
       "['ID', 'Age', 'Gender', 'BMI', 'Smoker', 'Region', 'Cost ($)']"
      ]
     },
     "execution_count": 4,
     "metadata": {},
     "output_type": "execute_result"
    }
   ],
   "source": [
    "# Show the columns present in the dataset\n",
    "list(df.columns) "
   ]
  },
  {
   "cell_type": "markdown",
   "id": "6c0f41de",
   "metadata": {},
   "source": [
    "### Checking whether the dataset contain any duplicates "
   ]
  },
  {
   "cell_type": "code",
   "execution_count": 5,
   "id": "46c91a3e",
   "metadata": {},
   "outputs": [
    {
     "name": "stdout",
     "output_type": "stream",
     "text": [
      "Before dropping duplicates\n",
      "(1338, 7)\n",
      "\n",
      "After dropping duplicates\n",
      "(1338, 7)\n"
     ]
    }
   ],
   "source": [
    "# Check and removing duplicate rows\n",
    "print(\"Before dropping duplicates\")\n",
    "print(df.shape)\n",
    "\n",
    "df = df.drop_duplicates()\n",
    "\n",
    "print(\"\\nAfter dropping duplicates\")\n",
    "print(df.shape)"
   ]
  },
  {
   "cell_type": "markdown",
   "id": "ff824605",
   "metadata": {},
   "source": [
    "Since the shape of the dataset didn't change after drop.duplicates, I can safely conclude that there isn't any duplicate data in the dataset."
   ]
  },
  {
   "cell_type": "markdown",
   "id": "e0cef977",
   "metadata": {},
   "source": [
    "### Checking if the dataset contain any missing values"
   ]
  },
  {
   "cell_type": "code",
   "execution_count": 6,
   "id": "9939376b",
   "metadata": {},
   "outputs": [
    {
     "data": {
      "text/plain": [
       "<Axes: >"
      ]
     },
     "execution_count": 6,
     "metadata": {},
     "output_type": "execute_result"
    },
    {
     "data": {
      "image/png": "[encoded data removed]",
      "text/plain": [
       "<Figure size 640x480 with 1 Axes>"
      ]
     },
     "metadata": {},
     "output_type": "display_data"
    }
   ],
   "source": [
    "# Heatmap showing missing values(in white)\n",
    "sns.heatmap(df.isnull(), cbar = False) "
   ]
  },
  {
   "cell_type": "code",
   "execution_count": 7,
   "id": "9d5c3945",
   "metadata": {},
   "outputs": [
    {
     "data": {
      "text/plain": [
       "ID          0\n",
       "Age         0\n",
       "Gender      0\n",
       "BMI         0\n",
       "Smoker      0\n",
       "Region      0\n",
       "Cost ($)    0\n",
       "dtype: int64"
      ]
     },
     "execution_count": 7,
     "metadata": {},
     "output_type": "execute_result"
    }
   ],
   "source": [
    "# Sum of total missing values in the data\n",
    "df.isnull().sum()"
   ]
  },
  {
   "cell_type": "markdown",
   "id": "9754634d",
   "metadata": {},
   "source": [
    "Since there isn't any missing values in the data, we don't need to impute any."
   ]
  },
  {
   "cell_type": "markdown",
   "id": "f90d79db",
   "metadata": {},
   "source": [
    "### Checking for outliers "
   ]
  },
  {
   "cell_type": "markdown",
   "id": "5360dbd4",
   "metadata": {},
   "source": [
    "Since only Age, BMI, Cost ($) contain continuous quantitative data, we will only check for outliers on these 3 columns."
   ]
  },
  {
   "cell_type": "code",
   "execution_count": 8,
   "id": "23a02f19",
   "metadata": {
    "scrolled": false
   },
   "outputs": [
    {
     "data": {
      "image/png": "[encoded data removed]",
      "text/plain": [
       "<Figure size 900x1000 with 3 Axes>"
      ]
     },
     "metadata": {},
     "output_type": "display_data"
    }
   ],
   "source": [
    "column_list_values = list(df[['Age', 'BMI', 'Cost ($)']])\n",
    "\n",
    "# Initializing a figure to store the individual boxplots\n",
    "fig, axes = plt.subplots(3, figsize=(9,10))\n",
    "fig.tight_layout()\n",
    "\n",
    "# Plotting boxplots for all the features in the dataset\n",
    "index = 0\n",
    "for column in column_list_values:\n",
    "    sns.boxplot(ax=axes[index], data=df[column], orient='h').set_title(column)\n",
    "    index += 1"
   ]
  },
  {
   "cell_type": "markdown",
   "id": "2cefdca9",
   "metadata": {},
   "source": [
    "After plotting boxplots for all the features present in the dataset, we can identify the outliers by the black diamond markers present outside of the whiskers of the interquartile range. In the above plots, we can see that all features contain outliers, therefore we should find a solution to remove these outliers. The reason why outliers need to be removed is because:\n",
    "\n",
    "- It may cause a significant impact on the mean and the standard deviation. If the outliers are non-randomly distributed, they can decrease normality. They can bias or influence estimates that may be of substantive interest.\n",
    "\n",
    "Since I have no idea how the outliers would affect my model, I have decided not to remove outliers in this dataset."
   ]
  },
  {
   "cell_type": "markdown",
   "id": "c225fe83",
   "metadata": {},
   "source": [
    "### Creating dummy variables  "
   ]
  },
  {
   "cell_type": "code",
   "execution_count": 9,
   "id": "11e7baba",
   "metadata": {
    "scrolled": false
   },
   "outputs": [
    {
     "data": {
      "text/html": [
       "<div>\n",
       "<style scoped>\n",
       "    .dataframe tbody tr th:only-of-type {\n",
       "        vertical-align: middle;\n",
       "    }\n",
       "\n",
       "    .dataframe tbody tr th {\n",
       "        vertical-align: top;\n",
       "    }\n",
       "\n",
       "    .dataframe thead th {\n",
       "        text-align: right;\n",
       "    }\n",
       "</style>\n",
       "<table border=\"1\" class=\"dataframe\">\n",
       "  <thead>\n",
       "    <tr style=\"text-align: right;\">\n",
       "      <th></th>\n",
       "      <th>ID</th>\n",
       "      <th>Age</th>\n",
       "      <th>BMI</th>\n",
       "      <th>Cost ($)</th>\n",
       "      <th>Gender_male</th>\n",
       "      <th>Smoker_yes</th>\n",
       "      <th>Region_northwest</th>\n",
       "      <th>Region_southeast</th>\n",
       "      <th>Region_southwest</th>\n",
       "    </tr>\n",
       "  </thead>\n",
       "  <tbody>\n",
       "    <tr>\n",
       "      <th>0</th>\n",
       "      <td>1</td>\n",
       "      <td>19</td>\n",
       "      <td>27.900</td>\n",
       "      <td>16884.92400</td>\n",
       "      <td>0</td>\n",
       "      <td>1</td>\n",
       "      <td>0</td>\n",
       "      <td>0</td>\n",
       "      <td>1</td>\n",
       "    </tr>\n",
       "    <tr>\n",
       "      <th>1</th>\n",
       "      <td>2</td>\n",
       "      <td>18</td>\n",
       "      <td>33.770</td>\n",
       "      <td>1725.55230</td>\n",
       "      <td>1</td>\n",
       "      <td>0</td>\n",
       "      <td>0</td>\n",
       "      <td>1</td>\n",
       "      <td>0</td>\n",
       "    </tr>\n",
       "    <tr>\n",
       "      <th>2</th>\n",
       "      <td>3</td>\n",
       "      <td>28</td>\n",
       "      <td>33.000</td>\n",
       "      <td>4449.46200</td>\n",
       "      <td>1</td>\n",
       "      <td>0</td>\n",
       "      <td>0</td>\n",
       "      <td>1</td>\n",
       "      <td>0</td>\n",
       "    </tr>\n",
       "    <tr>\n",
       "      <th>3</th>\n",
       "      <td>4</td>\n",
       "      <td>33</td>\n",
       "      <td>22.705</td>\n",
       "      <td>21984.47061</td>\n",
       "      <td>1</td>\n",
       "      <td>0</td>\n",
       "      <td>1</td>\n",
       "      <td>0</td>\n",
       "      <td>0</td>\n",
       "    </tr>\n",
       "    <tr>\n",
       "      <th>4</th>\n",
       "      <td>5</td>\n",
       "      <td>32</td>\n",
       "      <td>28.880</td>\n",
       "      <td>3866.85520</td>\n",
       "      <td>1</td>\n",
       "      <td>0</td>\n",
       "      <td>1</td>\n",
       "      <td>0</td>\n",
       "      <td>0</td>\n",
       "    </tr>\n",
       "    <tr>\n",
       "      <th>...</th>\n",
       "      <td>...</td>\n",
       "      <td>...</td>\n",
       "      <td>...</td>\n",
       "      <td>...</td>\n",
       "      <td>...</td>\n",
       "      <td>...</td>\n",
       "      <td>...</td>\n",
       "      <td>...</td>\n",
       "      <td>...</td>\n",
       "    </tr>\n",
       "    <tr>\n",
       "      <th>1333</th>\n",
       "      <td>1334</td>\n",
       "      <td>50</td>\n",
       "      <td>30.970</td>\n",
       "      <td>10600.54830</td>\n",
       "      <td>1</td>\n",
       "      <td>0</td>\n",
       "      <td>1</td>\n",
       "      <td>0</td>\n",
       "      <td>0</td>\n",
       "    </tr>\n",
       "    <tr>\n",
       "      <th>1334</th>\n",
       "      <td>1335</td>\n",
       "      <td>18</td>\n",
       "      <td>31.920</td>\n",
       "      <td>2205.98080</td>\n",
       "      <td>0</td>\n",
       "      <td>0</td>\n",
       "      <td>0</td>\n",
       "      <td>0</td>\n",
       "      <td>0</td>\n",
       "    </tr>\n",
       "    <tr>\n",
       "      <th>1335</th>\n",
       "      <td>1336</td>\n",
       "      <td>18</td>\n",
       "      <td>36.850</td>\n",
       "      <td>1629.83350</td>\n",
       "      <td>0</td>\n",
       "      <td>0</td>\n",
       "      <td>0</td>\n",
       "      <td>1</td>\n",
       "      <td>0</td>\n",
       "    </tr>\n",
       "    <tr>\n",
       "      <th>1336</th>\n",
       "      <td>1337</td>\n",
       "      <td>21</td>\n",
       "      <td>25.800</td>\n",
       "      <td>2007.94500</td>\n",
       "      <td>0</td>\n",
       "      <td>0</td>\n",
       "      <td>0</td>\n",
       "      <td>0</td>\n",
       "      <td>1</td>\n",
       "    </tr>\n",
       "    <tr>\n",
       "      <th>1337</th>\n",
       "      <td>1338</td>\n",
       "      <td>61</td>\n",
       "      <td>29.070</td>\n",
       "      <td>29141.36030</td>\n",
       "      <td>0</td>\n",
       "      <td>1</td>\n",
       "      <td>1</td>\n",
       "      <td>0</td>\n",
       "      <td>0</td>\n",
       "    </tr>\n",
       "  </tbody>\n",
       "</table>\n",
       "<p>1338 rows × 9 columns</p>\n",
       "</div>"
      ],
      "text/plain": [
       "        ID  Age     BMI     Cost ($)  Gender_male  Smoker_yes  \\\n",
       "0        1   19  27.900  16884.92400            0           1   \n",
       "1        2   18  33.770   1725.55230            1           0   \n",
       "2        3   28  33.000   4449.46200            1           0   \n",
       "3        4   33  22.705  21984.47061            1           0   \n",
       "4        5   32  28.880   3866.85520            1           0   \n",
       "...    ...  ...     ...          ...          ...         ...   \n",
       "1333  1334   50  30.970  10600.54830            1           0   \n",
       "1334  1335   18  31.920   2205.98080            0           0   \n",
       "1335  1336   18  36.850   1629.83350            0           0   \n",
       "1336  1337   21  25.800   2007.94500            0           0   \n",
       "1337  1338   61  29.070  29141.36030            0           1   \n",
       "\n",
       "      Region_northwest  Region_southeast  Region_southwest  \n",
       "0                    0                 0                 1  \n",
       "1                    0                 1                 0  \n",
       "2                    0                 1                 0  \n",
       "3                    1                 0                 0  \n",
       "4                    1                 0                 0  \n",
       "...                ...               ...               ...  \n",
       "1333                 1                 0                 0  \n",
       "1334                 0                 0                 0  \n",
       "1335                 0                 1                 0  \n",
       "1336                 0                 0                 1  \n",
       "1337                 1                 0                 0  \n",
       "\n",
       "[1338 rows x 9 columns]"
      ]
     },
     "execution_count": 9,
     "metadata": {},
     "output_type": "execute_result"
    }
   ],
   "source": [
    "# Create dummies for categorical values (Smoker, Gender, Region)\n",
    "df = pd.get_dummies(df, drop_first=True, dtype=int)\n",
    "\n",
    "df"
   ]
  },
  {
   "cell_type": "markdown",
   "id": "debc2d7e",
   "metadata": {},
   "source": [
    "After creating new dummy variables for Gender, Smoker, Regions, we will remove the Gender, Smoker, Regions columns and use the newly created dummy variables in our data."
   ]
  },
  {
   "cell_type": "markdown",
   "id": "6272cc01",
   "metadata": {},
   "source": [
    "# 2. Train-test split"
   ]
  },
  {
   "cell_type": "markdown",
   "id": "eacedab3",
   "metadata": {},
   "source": [
    "Since this is a regression problem, I will therefore only use regression models:\n",
    "- Linear Regression\n",
    "- Decision Tree Regressor\n",
    "- Support Vector Regresso (SVR)"
   ]
  },
  {
   "cell_type": "markdown",
   "id": "242fc1c7",
   "metadata": {},
   "source": [
    "There will be 2 methods on how I am working on this regression assignment:\n",
    "1. Use all features to train the models \n",
    "\n",
    "2. Use Lasso CV to find which features are important, and train the important features into the models"
   ]
  },
  {
   "cell_type": "markdown",
   "id": "d3d0cf6a",
   "metadata": {},
   "source": [
    "## (a) Spilting the data into training and testing sets "
   ]
  },
  {
   "cell_type": "code",
   "execution_count": 10,
   "id": "f45ee41d",
   "metadata": {},
   "outputs": [],
   "source": [
    "X = df.drop(labels=['Cost ($)', 'ID'], axis=1)\n",
    "y = df['Cost ($)']"
   ]
  },
  {
   "cell_type": "markdown",
   "id": "b585137e",
   "metadata": {},
   "source": [
    "I'm dropping the target column 'Cost' as it will be the testing set of the dataset. I'm also dropping the 'ID' column since it has no correlation with the ability of predicting 'Cost' since it's just a index."
   ]
  },
  {
   "cell_type": "code",
   "execution_count": 11,
   "id": "803d17d0",
   "metadata": {},
   "outputs": [],
   "source": [
    "X_train, X_test, y_train, y_test = train_test_split(X, y, \n",
    "                                                   test_size=0.2, \n",
    "                                                    random_state=42)"
   ]
  },
  {
   "cell_type": "code",
   "execution_count": 12,
   "id": "53afe0f9",
   "metadata": {},
   "outputs": [],
   "source": [
    "# Initialize the Standard Scaler\n",
    "scaler = StandardScaler()\n",
    "\n",
    "X_train[['Age', 'BMI']] = scaler.fit_transform(X_train[['Age', 'BMI']])\n",
    "X_test[['Age', 'BMI']] = scaler.transform(X_test[['Age', 'BMI']])"
   ]
  },
  {
   "cell_type": "markdown",
   "id": "bfd64523",
   "metadata": {},
   "source": [
    "Since Age and BMI are the only columns with continuous data, I will only be scaling these 2 columns. The rest of the columns are either binary values, such as 1 and 0, or is the target column 'Cost'."
   ]
  },
  {
   "cell_type": "markdown",
   "id": "ea2422ac",
   "metadata": {},
   "source": [
    "## Method 2: Using important features chosen by Lasso CV"
   ]
  },
  {
   "cell_type": "code",
   "execution_count": 13,
   "id": "723fe641",
   "metadata": {},
   "outputs": [],
   "source": [
    "# 5-Folds CV\n",
    "kf = KFold(n_splits = 5) "
   ]
  },
  {
   "cell_type": "markdown",
   "id": "ed6f96b9",
   "metadata": {},
   "source": [
    "### Lasso CV Regression "
   ]
  },
  {
   "cell_type": "code",
   "execution_count": 14,
   "id": "ad9db300",
   "metadata": {},
   "outputs": [
    {
     "name": "stdout",
     "output_type": "stream",
     "text": [
      "Lasso CV - Best Alpha: 100.0 \n",
      "MSE: 34730152.80078858 \n",
      "R2: 0.776293484223226\n",
      "Intercept: 8607.01205796386\n",
      "Coefficients: [ 3546.56273691  1883.21144719     0.         23049.15052677\n",
      "     0.            -0.            -0.        ]\n"
     ]
    }
   ],
   "source": [
    "alphas = [0.01, 0.05, 0.06, 0.07, 0.08, 0.09, 0.1, 0.2, 0.4, 0.5, 1, 10, 50, 100]\n",
    "\n",
    "lasso_cv = LassoCV(alphas = alphas, cv=kf, random_state=42)\n",
    "lasso_cv.fit(X_train, y_train)\n",
    "\n",
    "y_pred_lasso = lasso_cv.predict(X_test)\n",
    "\n",
    "mse_lasso = mean_squared_error(y_test, y_pred_lasso)\n",
    "r2_lasso = r2_score(y_test, y_pred_lasso)\n",
    "\n",
    "print(f\"Lasso CV - Best Alpha: {lasso_cv.alpha_} \\nMSE: {mse_lasso} \\nR2: {r2_lasso}\")\n",
    "print(f\"Intercept: {lasso_cv.intercept_}\")\n",
    "print(f\"Coefficients: {lasso_cv.coef_}\")"
   ]
  },
  {
   "cell_type": "markdown",
   "id": "24d12a51",
   "metadata": {},
   "source": [
    "The coefficients with postive values mean that the Lasso CV treats that as an important feature, and thus I will include it in the X and y. On the contrary, the coefficients with 0 and negative numbers mean that Lasso CV thinks that the feature is redundant, therefore I will be removing them.\n",
    "- I only be taking the 'Age', 'BMI', 'Smoker_yes' for method 2"
   ]
  },
  {
   "cell_type": "markdown",
   "id": "450b512d",
   "metadata": {},
   "source": [
    "### New train-test split"
   ]
  },
  {
   "cell_type": "code",
   "execution_count": 15,
   "id": "328ff7cf",
   "metadata": {},
   "outputs": [],
   "source": [
    "X_train_m2 = X_train[['Age', 'BMI', 'Smoker_yes']]\n",
    "\n",
    "X_test_m2 = X_test[['Age', 'BMI', 'Smoker_yes']]"
   ]
  },
  {
   "cell_type": "markdown",
   "id": "61ea3ff5",
   "metadata": {},
   "source": [
    "Taking only the 3 columns that Lasso CV thinks is important"
   ]
  },
  {
   "cell_type": "markdown",
   "id": "4a015bda",
   "metadata": {},
   "source": [
    "Now I have the required items for method 1 and method 2.\n",
    "Method 1:\n",
    "- X_train\n",
    "- X_test\n",
    "\n",
    "Method 2:\n",
    "- X_train_m2\n",
    "- X_test_m2"
   ]
  },
  {
   "cell_type": "markdown",
   "id": "72fe8f39",
   "metadata": {},
   "source": [
    "# 3. Training the models "
   ]
  },
  {
   "cell_type": "markdown",
   "id": "4b053541",
   "metadata": {},
   "source": [
    "### (a) Linear Regression "
   ]
  },
  {
   "cell_type": "code",
   "execution_count": 16,
   "id": "a24853b1",
   "metadata": {},
   "outputs": [
    {
     "name": "stdout",
     "output_type": "stream",
     "text": [
      "----------- Method 1 -----------\n",
      "Linear Regression Mean Absolute Percentage Error: 0.48\n",
      "Linear Regression Mean Squared Error: 34142364.8\n",
      "Linear Regression R-squared: 0.78\n",
      "\n",
      "----------- Method 2 -----------\n",
      "Linear Regression Mean Absolute Percentage Error: 0.5\n",
      "Linear Regression Mean Squared Error: 34512843.88\n",
      "Linear Regression R-squared: 0.78\n"
     ]
    }
   ],
   "source": [
    "# ----------- Method 1 -----------\n",
    "\n",
    "# Fit a linear regression model to the data\n",
    "LR_model = LinearRegression()\n",
    "LR_model.fit(X_train, y_train)\n",
    "\n",
    "# Make predictions\n",
    "y_pred = LR_model.predict(X_test)\n",
    "\n",
    "# Summarize the fit of the model\n",
    "LR_mape = round(mean_absolute_percentage_error(y_test, y_pred), 2)\n",
    "LR_mse = round(mean_squared_error(y_test, y_pred), 2)\n",
    "LR_r2 = round(r2_score(y_test, y_pred), 2)\n",
    "\n",
    "print(\"----------- Method 1 -----------\")\n",
    "print(f'Linear Regression Mean Absolute Percentage Error: {LR_mape}')\n",
    "print(f'Linear Regression Mean Squared Error: {LR_mse}')\n",
    "print(f'Linear Regression R-squared: {LR_r2}')\n",
    "\n",
    "# ----------- Method 2 -----------\n",
    "\n",
    "# Fit a linear regression model to the data\n",
    "LR_model_m2 = LinearRegression()\n",
    "LR_model_m2.fit(X_train_m2, y_train)\n",
    "\n",
    "# Make predictions\n",
    "y_pred_m2 = LR_model_m2.predict(X_test_m2)\n",
    "\n",
    "# Summarize the fit of the model\n",
    "LR_mape_m2 = round(mean_absolute_percentage_error(y_test, y_pred_m2), 2)\n",
    "LR_mse_m2 = round(mean_squared_error(y_test, y_pred_m2), 2)\n",
    "LR_r2_m2 = round(r2_score(y_test, y_pred_m2), 2)\n",
    "\n",
    "print(\"\\n----------- Method 2 -----------\")\n",
    "print(f'Linear Regression Mean Absolute Percentage Error: {LR_mape_m2}')\n",
    "print(f'Linear Regression Mean Squared Error: {LR_mse_m2}')\n",
    "print(f'Linear Regression R-squared: {LR_r2_m2}')"
   ]
  },
  {
   "cell_type": "markdown",
   "id": "d2b111a0",
   "metadata": {},
   "source": [
    "Linear Regression - Method 1 is better"
   ]
  },
  {
   "cell_type": "markdown",
   "id": "f623c6a1",
   "metadata": {},
   "source": [
    "### Tuning hyperparameters of Linear Regression"
   ]
  },
  {
   "cell_type": "code",
   "execution_count": 17,
   "id": "2a4d0ce2",
   "metadata": {},
   "outputs": [
    {
     "name": "stdout",
     "output_type": "stream",
     "text": [
      "Linear Regression Best Parameters: {'fit_intercept': True, 'positive': True}\n",
      "\n",
      "Linear Regression r2 score: 0.732525891024525\n"
     ]
    }
   ],
   "source": [
    "# Initializing the LogisticRegression model\n",
    "tuned_LR_model = LinearRegression()\n",
    "\n",
    "# Create the parameter space\n",
    "params = {\"fit_intercept\": [True, False], \n",
    "          \"positive\": [True, False]}\n",
    "\n",
    "# Instantiate the GridSearchCV object\n",
    "tuned_LR_model = GridSearchCV(tuned_LR_model, params, cv=kf, scoring = \"r2\")\n",
    "\n",
    "# Fit the data to the model\n",
    "tuned_LR_model.fit(X_train, y_train)\n",
    "\n",
    "\n",
    "# Print the tuned parameters and score\n",
    "print(\"Linear Regression Best Parameters: {}\".format(tuned_LR_model.best_params_)) \n",
    "\n",
    "print(\"\\nLinear Regression r2 score: {}\".format(tuned_LR_model.best_score_)) "
   ]
  },
  {
   "cell_type": "code",
   "execution_count": 18,
   "id": "c5481984",
   "metadata": {},
   "outputs": [
    {
     "name": "stdout",
     "output_type": "stream",
     "text": [
      "\n",
      "----------- Method 1 -----------\n",
      "Tuned Linear Regression r2 Score:  0.73\n"
     ]
    }
   ],
   "source": [
    "# ----------- Method 1 -----------\n",
    "m1_LR_model = LinearRegression(fit_intercept = True, \n",
    "                                  positive = True)\n",
    "\n",
    "m1_LR_scores = cross_val_score(m1_LR_model, X_train, y_train, cv=kf, scoring = \"r2\")\n",
    "\n",
    "# Calculating the results\n",
    "m1_LR_mean_scores = round(m1_LR_scores.mean(), 2)\n",
    "print(\"\\n----------- Method 1 -----------\")\n",
    "print(f'Tuned Linear Regression r2 Score: ', m1_LR_mean_scores)"
   ]
  },
  {
   "cell_type": "markdown",
   "id": "7e2cd3ce",
   "metadata": {},
   "source": [
    "### (b) Decision Tree Regressor"
   ]
  },
  {
   "cell_type": "code",
   "execution_count": 19,
   "id": "d2c6610e",
   "metadata": {},
   "outputs": [
    {
     "name": "stdout",
     "output_type": "stream",
     "text": [
      "\n",
      "----------- Method 1 -----------\n",
      "Decision Tree Regressor Mean Absolute Percentage Error: 0.44\n",
      "Decision Tree Regressor Mean Squared Error: 46950261.17\n",
      "Decision Tree Regressor R-squared: 0.7\n",
      "\n",
      "----------- Method 2 -----------\n",
      "Decision Tree Regressor Mean Absolute Percentage Error: 0.4\n",
      "Decision Tree Regressor Mean Squared Error: 40126732.15\n",
      "Decision Tree Regressor R-squared: 0.74\n"
     ]
    }
   ],
   "source": [
    "# ----------- Method 1 -----------\n",
    "DT_model = DecisionTreeRegressor(random_state=42)\n",
    "DT_model.fit(X_train, y_train)\n",
    "\n",
    "# Make predictions\n",
    "y_pred = DT_model.predict(X_test)\n",
    "\n",
    "# Summarize the fit of the model\n",
    "DT_mape = round(mean_absolute_percentage_error(y_test, y_pred), 2)\n",
    "DT_mse = round(mean_squared_error(y_test, y_pred), 2)\n",
    "DT_r2 = round(r2_score(y_test, y_pred), 2)\n",
    "\n",
    "print(\"\\n----------- Method 1 -----------\")\n",
    "print(f'Decision Tree Regressor Mean Absolute Percentage Error: {DT_mape}')\n",
    "print(f'Decision Tree Regressor Mean Squared Error: {DT_mse}')\n",
    "print(f'Decision Tree Regressor R-squared: {DT_r2}')\n",
    "\n",
    "\n",
    "# ----------- Method 2 -----------\n",
    "DT_model_m2 = DecisionTreeRegressor(random_state=42)\n",
    "DT_model_m2.fit(X_train_m2, y_train)\n",
    "\n",
    "# Make predictions\n",
    "y_pred_m2 = DT_model_m2.predict(X_test_m2)\n",
    "\n",
    "# Summarize the fit of the model\n",
    "DT_mape_m2 = round(mean_absolute_percentage_error(y_test, y_pred_m2), 2)\n",
    "DT_mse_m2 = round(mean_squared_error(y_test, y_pred_m2), 2)\n",
    "DT_r2_m2 = round(r2_score(y_test, y_pred_m2), 2)\n",
    "\n",
    "print(\"\\n----------- Method 2 -----------\")\n",
    "print(f'Decision Tree Regressor Mean Absolute Percentage Error: {DT_mape_m2}')\n",
    "print(f'Decision Tree Regressor Mean Squared Error: {DT_mse_m2}')\n",
    "print(f'Decision Tree Regressor R-squared: {DT_r2_m2}')"
   ]
  },
  {
   "cell_type": "markdown",
   "id": "4cacbe16",
   "metadata": {},
   "source": [
    "Decision Tree Regressor - Method 2 is better"
   ]
  },
  {
   "cell_type": "markdown",
   "id": "b6d7b238",
   "metadata": {},
   "source": [
    "### Tuning hyperparameters of Decision Tree Regressor"
   ]
  },
  {
   "cell_type": "code",
   "execution_count": 20,
   "id": "34b3dd8f",
   "metadata": {},
   "outputs": [
    {
     "name": "stdout",
     "output_type": "stream",
     "text": [
      "Decision Tree Regression Best Parameters: {'min_samples_split': 5, 'min_samples_leaf': 8, 'max_depth': 10}\n",
      "\n",
      "Decision Tree Regression r2 score: 0.8194839040681494\n"
     ]
    }
   ],
   "source": [
    "# Initializing the DecisionTreeRegressor model\n",
    "tuned_DT_model = DecisionTreeRegressor()\n",
    "\n",
    "# Create the parameter space\n",
    "params = {'max_depth': [None, 10, 20, 30],\n",
    "        'min_samples_split': [2, 5, 10],\n",
    "        'min_samples_leaf': [1, 2, 4, 8]\n",
    "         }\n",
    "\n",
    "# Instantiate the RandomizedSearchCV object\n",
    "tuned_DT_model = RandomizedSearchCV(tuned_DT_model, params, cv=kf, scoring = \"r2\")\n",
    "\n",
    "# Fit the data to the model\n",
    "tuned_DT_model.fit(X_train_m2, y_train)\n",
    "\n",
    "\n",
    "# Print the tuned parameters and score\n",
    "print(\"Decision Tree Regression Best Parameters: {}\".format(tuned_DT_model.best_params_)) \n",
    "\n",
    "print(\"\\nDecision Tree Regression r2 score: {}\".format(tuned_DT_model.best_score_)) "
   ]
  },
  {
   "cell_type": "code",
   "execution_count": 21,
   "id": "85a9e102",
   "metadata": {},
   "outputs": [
    {
     "name": "stdout",
     "output_type": "stream",
     "text": [
      "----------- Method 2 -----------\n",
      "Decision Tree Regressor r2 Score:  0.82\n"
     ]
    }
   ],
   "source": [
    "# ----------- Method 2 -----------\n",
    "# Fitting and training the actual model\n",
    "tuned_DT_model = DecisionTreeRegressor(min_samples_split = 10, \n",
    "                      min_samples_leaf = 8, \n",
    "                      max_depth = 10)\n",
    "\n",
    "tuned_DT_scores = cross_val_score(tuned_DT_model, X_train_m2, y_train, cv=kf, scoring = \"r2\")\n",
    "\n",
    "# Calculating the results\n",
    "tuned_DT_mean_scores = round(tuned_DT_scores.mean(), 2)\n",
    "\n",
    "print(\"----------- Method 2 -----------\")\n",
    "print(f'Decision Tree Regressor r2 Score: ', tuned_DT_mean_scores)"
   ]
  },
  {
   "cell_type": "markdown",
   "id": "6f6fe3d8",
   "metadata": {},
   "source": [
    "### (c) Random Forest Regressor"
   ]
  },
  {
   "cell_type": "code",
   "execution_count": 22,
   "id": "87a1e950",
   "metadata": {},
   "outputs": [
    {
     "name": "stdout",
     "output_type": "stream",
     "text": [
      "----------- Method 1 -----------\n",
      "Random Forest Regressor Mean Absolute Percentage Error: 0.38\n",
      "Random Forest Regressor Mean Squared Error: 22595882.16\n",
      "Random Forest Regressor R-squared: 0.85\n",
      "\n",
      "----------- Method 2 -----------\n",
      "Random Forest Regressor Mean Absolute Percentage Error: 0.4\n",
      "Random Forest Regressor Mean Squared Error: 25733119.22\n",
      "Random Forest Regressor R-squared: 0.83\n"
     ]
    }
   ],
   "source": [
    "# ----------- Method 1 -----------\n",
    "RF_model = RandomForestRegressor(random_state=42)\n",
    "RF_model.fit(X_train, y_train)\n",
    "\n",
    "# Make predictions\n",
    "y_pred = RF_model.predict(X_test)\n",
    "\n",
    "# Summarize the fit of the model\n",
    "RF_mape = round(mean_absolute_percentage_error(y_test, y_pred), 2)\n",
    "RF_mse = round(mean_squared_error(y_test, y_pred), 2)\n",
    "RF_r2 = round(r2_score(y_test, y_pred), 2)\n",
    "\n",
    "print(\"----------- Method 1 -----------\")\n",
    "print(f'Random Forest Regressor Mean Absolute Percentage Error: {RF_mape}')\n",
    "print(f'Random Forest Regressor Mean Squared Error: {RF_mse}')\n",
    "print(f'Random Forest Regressor R-squared: {RF_r2}')\n",
    "\n",
    "\n",
    "# ----------- Method 2 -----------\n",
    "RF_model = RandomForestRegressor(random_state=42)\n",
    "RF_model.fit(X_train_m2, y_train)\n",
    "\n",
    "# Make predictions\n",
    "y_pred_m2 = RF_model.predict(X_test_m2)\n",
    "\n",
    "# Summarize the fit of the model\n",
    "RF_mape_m2 = round(mean_absolute_percentage_error(y_test, y_pred_m2), 2)\n",
    "RF_mse_m2 = round(mean_squared_error(y_test, y_pred_m2), 2)\n",
    "RF_r2_m2 = round(r2_score(y_test, y_pred_m2), 2)\n",
    "\n",
    "print(\"\\n----------- Method 2 -----------\")\n",
    "print(f'Random Forest Regressor Mean Absolute Percentage Error: {RF_mape_m2}')\n",
    "print(f'Random Forest Regressor Mean Squared Error: {RF_mse_m2}')\n",
    "print(f'Random Forest Regressor R-squared: {RF_r2_m2}')"
   ]
  },
  {
   "cell_type": "markdown",
   "id": "37cc0e41",
   "metadata": {},
   "source": [
    "Random Forest Regressor - Method 1 is better\n",
    "Since MSE and MAPE of method 1 is lower compared to those of method 2"
   ]
  },
  {
   "cell_type": "code",
   "execution_count": 23,
   "id": "81fbaa8c",
   "metadata": {},
   "outputs": [
    {
     "name": "stdout",
     "output_type": "stream",
     "text": [
      "Random Forest Regressor Best Parameters: {'min_samples_split': 2, 'min_samples_leaf': 4, 'max_depth': None}\n",
      "\n",
      "Random Forest Regressor r2 score: 0.8370682735563845\n"
     ]
    }
   ],
   "source": [
    "# Initializing the Random Forest Regressor model\n",
    "tuned_RF_model = RandomForestRegressor()\n",
    "\n",
    "# Create the parameter space\n",
    "params = {'max_depth': [None, 10, 20, 30],\n",
    "          'min_samples_split': [2, 5, 10],\n",
    "          'min_samples_leaf': [1, 2, 4]\n",
    "         }\n",
    "\n",
    "# Instantiate the RandomizedSearchCV object\n",
    "tuned_RF_model = RandomizedSearchCV(tuned_RF_model, params, cv=kf, scoring = \"r2\")\n",
    "\n",
    "# Fit the data to the model\n",
    "tuned_RF_model.fit(X_train, y_train)\n",
    "\n",
    "\n",
    "# Print the tuned parameters and score\n",
    "print(\"Random Forest Regressor Best Parameters: {}\".format(tuned_RF_model.best_params_)) \n",
    "\n",
    "print(\"\\nRandom Forest Regressor r2 score: {}\".format(tuned_RF_model.best_score_)) "
   ]
  },
  {
   "cell_type": "code",
   "execution_count": 24,
   "id": "cbf68eaa",
   "metadata": {},
   "outputs": [
    {
     "name": "stdout",
     "output_type": "stream",
     "text": [
      "----------- Method 1 -----------\n",
      "Random Forest Regressor r2 Score:  0.84\n"
     ]
    }
   ],
   "source": [
    "# ----------- Method 1 -----------\n",
    "tuned_RF_model =RandomForestRegressor(min_samples_split = 5, \n",
    "                      min_samples_leaf = 4, \n",
    "                      max_depth = 10)\n",
    "\n",
    "tuned_RF_scores = cross_val_score(tuned_RF_model, X_train, y_train, cv=kf, scoring = \"r2\")\n",
    "\n",
    "# Calculating the results\n",
    "tuned_RF_mean_scores = round(tuned_RF_scores.mean(), 2)\n",
    "\n",
    "print(\"----------- Method 1 -----------\")\n",
    "print(f'Random Forest Regressor r2 Score: ', tuned_RF_mean_scores)"
   ]
  },
  {
   "cell_type": "markdown",
   "id": "6e666bc2",
   "metadata": {},
   "source": [
    "### (d) Ridge CV"
   ]
  },
  {
   "cell_type": "code",
   "execution_count": 25,
   "id": "1f8bbb53",
   "metadata": {},
   "outputs": [
    {
     "name": "stdout",
     "output_type": "stream",
     "text": [
      "----------- Method 1 -----------\n",
      "Lasso CV - Best Alpha: 1.0 \n",
      "MSE: 34188462.481044754 \n",
      "R2: 0.7797826613297876\n",
      "Intercept: 8955.305963467159\n",
      "Coefficients: [ 3.64121965e+03  2.03020307e+03  5.74856516e+00  2.35371417e+04\n",
      " -3.32458150e+02 -6.59025893e+02 -8.01398233e+02]\n",
      "\n",
      "----------- Method 2 -----------\n",
      "Lasso CV - Best Alpha: 0.5 \n",
      "MSE: 34529782.11809133 \n",
      "R2: 0.7775841271854705\n",
      "Intercept: 8492.22502470644\n",
      "Coefficients: [ 3646.16729948  1971.28798857 23607.43291579]\n"
     ]
    }
   ],
   "source": [
    "alphas = [0.01, 0.05, 0.06, 0.07, 0.08, 0.09, 0.1, 0.2, 0.4, 0.5, 1, 10, 50, 100]\n",
    "\n",
    "# ------------- Method 1 -------------\n",
    "ridge_cv = RidgeCV(alphas = alphas, cv=kf)\n",
    "ridge_cv.fit(X_train, y_train)\n",
    "\n",
    "y_pred_ridge = ridge_cv.predict(X_test)\n",
    "\n",
    "mse_ridge = mean_squared_error(y_test, y_pred_ridge)\n",
    "r2_ridge = r2_score(y_test, y_pred_ridge)\n",
    "\n",
    "print(\"----------- Method 1 -----------\")\n",
    "print(f\"Lasso CV - Best Alpha: {ridge_cv.alpha_} \\nMSE: {mse_ridge} \\nR2: {r2_ridge}\")\n",
    "print(f\"Intercept: {ridge_cv.intercept_}\")\n",
    "print(f\"Coefficients: {ridge_cv.coef_}\")\n",
    "\n",
    "\n",
    "# ------------- Method 2 -------------\n",
    "ridge_cv_m2 = RidgeCV(alphas = alphas, cv=kf)\n",
    "ridge_cv_m2.fit(X_train_m2, y_train)\n",
    "\n",
    "y_pred_ridge_m2 = ridge_cv_m2.predict(X_test_m2)\n",
    "\n",
    "mse_ridge_m2 = mean_squared_error(y_test, y_pred_ridge_m2)\n",
    "r2_ridge_m2 = r2_score(y_test, y_pred_ridge_m2)\n",
    "\n",
    "print(\"\\n----------- Method 2 -----------\")\n",
    "print(f\"Lasso CV - Best Alpha: {ridge_cv_m2.alpha_} \\nMSE: {mse_ridge_m2} \\nR2: {r2_ridge_m2}\")\n",
    "print(f\"Intercept: {ridge_cv_m2.intercept_}\")\n",
    "print(f\"Coefficients: {ridge_cv_m2.coef_}\")"
   ]
  },
  {
   "cell_type": "markdown",
   "id": "0c2e3be0",
   "metadata": {},
   "source": [
    "### (e) Dummy Regressor"
   ]
  },
  {
   "cell_type": "code",
   "execution_count": 26,
   "id": "bd79a1f6",
   "metadata": {},
   "outputs": [
    {
     "name": "stdout",
     "output_type": "stream",
     "text": [
      "----------- Method 1 -----------\n",
      "Dummy Regressor Mean Absolute Percentage Error: 1.68\n",
      "Dummy Regressor Mean Squared Error: 155391443.68\n",
      "Dummy Regressor R-squared: -0.0\n",
      "\n",
      "----------- Method 2 -----------\n",
      "Dummy Regressor Mean Absolute Percentage Error: 1.68\n",
      "Dummy Regressor Mean Squared Error: 155391443.68\n",
      "Dummy Regressor R-squared: -0.0\n"
     ]
    }
   ],
   "source": [
    "# ----------- Method 1 -----------\n",
    "dummy_model = DummyRegressor()\n",
    "dummy_model.fit(X_train, y_train)\n",
    "\n",
    "# Make predictions\n",
    "y_pred = dummy_model.predict(X_test)\n",
    "\n",
    "# Summarize the fit of the model\n",
    "dummy_mape = round(mean_absolute_percentage_error(y_test, y_pred), 2)\n",
    "dummy_mse = round(mean_squared_error(y_test, y_pred), 2)\n",
    "dummy_r2 = round(r2_score(y_test, y_pred), 2)\n",
    "\n",
    "print(\"----------- Method 1 -----------\")\n",
    "print(f'Dummy Regressor Mean Absolute Percentage Error: {dummy_mape}')\n",
    "print(f'Dummy Regressor Mean Squared Error: {dummy_mse}')\n",
    "print(f'Dummy Regressor R-squared: {dummy_r2}')\n",
    "\n",
    "\n",
    "# ----------- Method 2 -----------\n",
    "dummy_model = DummyRegressor()\n",
    "dummy_model.fit(X_train_m2, y_train)\n",
    "\n",
    "# Make predictions\n",
    "y_pred_m2 = dummy_model.predict(X_test_m2)\n",
    "\n",
    "# Summarize the fit of the model\n",
    "dummy_mape_m2 = round(mean_absolute_percentage_error(y_test, y_pred_m2), 2)\n",
    "dummy_mse_m2 = round(mean_squared_error(y_test, y_pred_m2), 2)\n",
    "dummy_r2_m2 = round(r2_score(y_test, y_pred_m2), 2)\n",
    "\n",
    "print(\"\\n----------- Method 2 -----------\")\n",
    "print(f'Dummy Regressor Mean Absolute Percentage Error: {dummy_mape_m2}')\n",
    "print(f'Dummy Regressor Mean Squared Error: {dummy_mse_m2}')\n",
    "print(f'Dummy Regressor R-squared: {dummy_r2_m2}')"
   ]
  },
  {
   "cell_type": "markdown",
   "id": "7d167862",
   "metadata": {},
   "source": [
    "Dummy Regressor - Both method produces the same results"
   ]
  },
  {
   "cell_type": "code",
   "execution_count": 27,
   "id": "1df254a5",
   "metadata": {},
   "outputs": [
    {
     "name": "stdout",
     "output_type": "stream",
     "text": [
      "Dummy Regressor Best Parameters: {'strategy': 'mean'}\n",
      "\n",
      "Dummy Regressor r2 score: -0.004796192893767958\n"
     ]
    }
   ],
   "source": [
    "# Initializing the Dummy Regressor model\n",
    "tuned_dummy_model = DummyRegressor()\n",
    "\n",
    "# Create the parameter space\n",
    "params = {'strategy': ['mean', 'median', 'quantile', 'constant']}\n",
    "\n",
    "\n",
    "# Instantiate the RandomizedSearchCV object\n",
    "tuned_dummy_model = RandomizedSearchCV(tuned_dummy_model, params, cv=kf, scoring = \"r2\")\n",
    "\n",
    "# Fit the data to the model\n",
    "tuned_dummy_model.fit(X_train, y_train)\n",
    "\n",
    "\n",
    "# Print the tuned parameters and score\n",
    "print(\"Dummy Regressor Best Parameters: {}\".format(tuned_dummy_model.best_params_)) \n",
    "\n",
    "print(\"\\nDummy Regressor r2 score: {}\".format(tuned_dummy_model.best_score_)) "
   ]
  },
  {
   "cell_type": "code",
   "execution_count": 28,
   "id": "6deebeb0",
   "metadata": {},
   "outputs": [
    {
     "name": "stdout",
     "output_type": "stream",
     "text": [
      "Dummy Regressor r2 Score:  -0.005\n"
     ]
    }
   ],
   "source": [
    "tuned_dummy_model = DummyRegressor(strategy = 'mean')\n",
    "\n",
    "tuned_dummy_scores = cross_val_score(tuned_dummy_model, X_train, y_train, cv=kf, scoring = \"r2\")\n",
    "\n",
    "# Calculating the results\n",
    "tuned_dummy_mean_scores = round(tuned_dummy_scores.mean(), 3)\n",
    "\n",
    "print(f'Dummy Regressor r2 Score: ', tuned_dummy_mean_scores)"
   ]
  },
  {
   "cell_type": "markdown",
   "id": "79b45003",
   "metadata": {},
   "source": [
    "# 4. Evaluating the tuned models"
   ]
  },
  {
   "cell_type": "markdown",
   "id": "16bd0450",
   "metadata": {},
   "source": [
    "To compare and find out which models are the best, I will be using fitting and cross validation to find out the model's r2_score, mean squared error and mean absolute error. Compare with all the other models to see which one's the best model overall."
   ]
  },
  {
   "cell_type": "markdown",
   "id": "0211eff0",
   "metadata": {},
   "source": [
    "Since when using both the mean absolute error and mean squared error as scoring in cross_val_score, the scores output will be negative. Therefore, we wil, have to apply abs() to obtain the positive values of both scoring to assist us to evaluate the model."
   ]
  },
  {
   "cell_type": "markdown",
   "id": "c081a821",
   "metadata": {},
   "source": [
    "### Random Forest Regressor - Method 1"
   ]
  },
  {
   "cell_type": "code",
   "execution_count": 29,
   "id": "0f29d00a",
   "metadata": {},
   "outputs": [
    {
     "name": "stdout",
     "output_type": "stream",
     "text": [
      "----------- Random Forest Regressor (Test set) -----------\n",
      "Random Forest Regressor Mean Absolute Percentage Error: 2779.762\n",
      "Random Forest Regressor Mean Squared Error: 23184622.516\n",
      "Random Forest Regressor R-squared: 0.836\n"
     ]
    }
   ],
   "source": [
    "test_RF_model = RandomForestRegressor(min_samples_split = 5, \n",
    "                          min_samples_leaf = 4, \n",
    "                          max_depth = 10)\n",
    "\n",
    "test_RF_mape = cross_val_score(test_RF_model, X_train, y_train, cv=kf, scoring = \"neg_mean_absolute_error\")\n",
    "test_RF_mse = cross_val_score(test_RF_model, X_train, y_train, cv=kf, scoring = \"neg_mean_squared_error\")\n",
    "test_RF_r2 = cross_val_score(test_RF_model, X_train, y_train, cv=kf, scoring = \"r2\")\n",
    "\n",
    "print(\"----------- Random Forest Regressor (Test set) -----------\")\n",
    "print(f'Random Forest Regressor Mean Absolute Percentage Error: {round(abs(np.mean(test_RF_mape)), 3)}')\n",
    "print(f'Random Forest Regressor Mean Squared Error: {round(abs(np.mean(test_RF_mse)), 3)}')\n",
    "print(f'Random Forest Regressor R-squared: {round(np.mean(test_RF_r2), 3)}')"
   ]
  },
  {
   "cell_type": "markdown",
   "id": "33207262",
   "metadata": {},
   "source": [
    "### Decision Tree Regressor - Method 2"
   ]
  },
  {
   "cell_type": "code",
   "execution_count": 30,
   "id": "29c45465",
   "metadata": {},
   "outputs": [
    {
     "name": "stdout",
     "output_type": "stream",
     "text": [
      "----------- Decision Tree Regressor (test set) -----------\n",
      "Decision Tree Regressor Mean Absolute Percentage Error: 2883.326\n",
      "Decision Tree Regressor Mean Squared Error: 27427848.273\n",
      "Decision Tree Regressor R-squared: 0.807\n"
     ]
    }
   ],
   "source": [
    "test_DT_model = DecisionTreeRegressor(min_samples_split = 5, \n",
    "                          min_samples_leaf = 4, \n",
    "                          max_depth = 10)\n",
    "\n",
    "test_DT_mape = cross_val_score(test_DT_model, X_train_m2, y_train, cv=kf, scoring = \"neg_mean_absolute_error\")\n",
    "test_DT_mse = cross_val_score(test_DT_model, X_train_m2, y_train, cv=kf, scoring = \"neg_mean_squared_error\")\n",
    "test_DT_r2 = cross_val_score(test_DT_model, X_train_m2, y_train, cv=kf, scoring = \"r2\")\n",
    "\n",
    "\n",
    "print(\"----------- Decision Tree Regressor (test set) -----------\")\n",
    "print(f'Decision Tree Regressor Mean Absolute Percentage Error: {round(abs(np.mean(test_DT_mape)), 3)}')\n",
    "print(f'Decision Tree Regressor Mean Squared Error: {round(abs(np.mean(test_DT_mse)), 3)}')\n",
    "print(f'Decision Tree Regressor R-squared: {round(np.mean(test_DT_r2), 3)}')"
   ]
  },
  {
   "cell_type": "markdown",
   "id": "4b05fdda",
   "metadata": {},
   "source": [
    "### Linear Regression - Method 1"
   ]
  },
  {
   "cell_type": "code",
   "execution_count": 31,
   "id": "f1433961",
   "metadata": {},
   "outputs": [
    {
     "name": "stdout",
     "output_type": "stream",
     "text": [
      "----------- Linear Regression (test set) -----------\n",
      "Linear Regression Mean Absolute Percentage Error: 4261.88\n",
      "Linear Regression Mean Squared Error: 38024590.537\n",
      "Linear Regression R-squared: 0.733\n"
     ]
    }
   ],
   "source": [
    "test_LR_model = LinearRegression(fit_intercept = True, \n",
    "                                  positive = True)\n",
    "\n",
    "test_LR_mape = cross_val_score(test_LR_model, X_train, y_train, cv=kf, scoring = \"neg_mean_absolute_error\")\n",
    "test_LR_mse = cross_val_score(test_LR_model, X_train, y_train, cv=kf, scoring = \"neg_mean_squared_error\")\n",
    "test_LR_r2 = cross_val_score(test_LR_model, X_train, y_train, cv=kf, scoring = \"r2\")\n",
    "\n",
    "print(\"----------- Linear Regression (test set) -----------\")\n",
    "print(f'Linear Regression Mean Absolute Percentage Error: {round(abs(np.mean(test_LR_mape)), 3)}')\n",
    "print(f'Linear Regression Mean Squared Error: {round(abs(np.mean(test_LR_mse)), 3)}')\n",
    "print(f'Linear Regression R-squared: {round(np.mean(test_LR_r2), 3)}')"
   ]
  },
  {
   "cell_type": "markdown",
   "id": "92f109d5",
   "metadata": {},
   "source": [
    "### Dummy Regressor - Method 1 "
   ]
  },
  {
   "cell_type": "code",
   "execution_count": 32,
   "id": "f2fa55c3",
   "metadata": {},
   "outputs": [
    {
     "name": "stdout",
     "output_type": "stream",
     "text": [
      "----------- Dummy Regressor (test set) -----------\n",
      "Dummy Regressor Mean Absolute Percentage Error: 9004.21\n",
      "Dummy Regressor Mean Squared Error: 144597530.03\n",
      "Dummy Regressor R-squared: -0.005\n"
     ]
    }
   ],
   "source": [
    "test_dummy_model = DummyRegressor(strategy = 'mean')\n",
    "\n",
    "test_dummy_mape = cross_val_score(test_dummy_model, X_train, y_train, cv=kf, scoring = \"neg_mean_absolute_error\")\n",
    "test_dummy_mse = cross_val_score(test_dummy_model, X_train, y_train, cv=kf, scoring = \"neg_mean_squared_error\")\n",
    "test_dummy_r2 = cross_val_score(test_dummy_model, X_train, y_train, cv=kf, scoring = \"r2\")\n",
    "\n",
    "print(\"----------- Dummy Regressor (test set) -----------\")\n",
    "print(f'Dummy Regressor Mean Absolute Percentage Error: {round(abs(np.mean(test_dummy_mape)), 3)}')\n",
    "print(f'Dummy Regressor Mean Squared Error: {round(abs(np.mean(test_dummy_mse)), 3)}')\n",
    "print(f'Dummy Regressor R-squared: {round(np.mean(test_dummy_r2), 3)}')"
   ]
  },
  {
   "cell_type": "markdown",
   "id": "dc8cf4ad",
   "metadata": {},
   "source": [
    "# 5. Final Model "
   ]
  },
  {
   "cell_type": "markdown",
   "id": "4442742a",
   "metadata": {},
   "source": [
    "## Best Regression Model - Random Forest Regressor "
   ]
  },
  {
   "cell_type": "markdown",
   "id": "049c0923",
   "metadata": {},
   "source": [
    "After completing the steps to get to here, Random Forest Regressor seems to be the best model out of all the models being tested. Random Forest Regressor has the lowest Mean Absolute Percentage Error, lowest Random Forest Regressor Mean Squared Error and the highest R-squared that is close to 1.\n",
    "\n",
    "- Random Forest Regressor Mean Absolute Percentage Error: 2780.799\n",
    "- Random Forest Regressor Mean Squared Error: 23191368.417\n",
    "- Random Forest Regressor R-squared: 0.837\n",
    "\n",
    "Additionally, the Random Forest Regressor has a higher Mean Absolute Percentage Error, Mean Squared Error and R-squared compared to the dummy regressor model, thus proving that my system is better compared to the dummy model."
   ]
  },
  {
   "cell_type": "markdown",
   "id": "aa502c78",
   "metadata": {},
   "source": [
    "## Fitting Tuned Random Forest Regressor"
   ]
  },
  {
   "cell_type": "code",
   "execution_count": 33,
   "id": "07bd346f",
   "metadata": {},
   "outputs": [
    {
     "name": "stdout",
     "output_type": "stream",
     "text": [
      "Final Random Forest Regressor\n",
      "The model Mean Absolute Percentage Error: 2666.23\n",
      "The model Mean Squared Error: 20977933.33\n",
      "The model r-squared: 0.86\n"
     ]
    }
   ],
   "source": [
    "final_RF_model = RandomForestRegressor(min_samples_split = 5, \n",
    "                          min_samples_leaf = 4, \n",
    "                          max_depth = 10)\n",
    "final_RF_model.fit(X_train, y_train)\n",
    "\n",
    "# Make prediction\n",
    "final_y_pred = final_RF_model.predict(X_test)\n",
    "\n",
    "# Summarize the fit of the model\n",
    "final_RF_mape = round(mean_absolute_error(y_test, final_y_pred), 2)\n",
    "final_RF_mse = round(mean_squared_error(y_test, final_y_pred), 2)\n",
    "final_RF_r2 = round(r2_score(y_test, final_y_pred), 2)\n",
    "\n",
    "print(\"Final Random Forest Regressor\")\n",
    "print(f'The model Mean Absolute Percentage Error: {final_RF_mape}')\n",
    "print(f'The model Mean Squared Error: {final_RF_mse}')\n",
    "print(f'The model r-squared: {final_RF_r2}')"
   ]
  }
 ],
 "metadata": {
  "kernelspec": {
   "display_name": "Python 3 (ipykernel)",
   "language": "python",
   "name": "python3"
  },
  "language_info": {
   "codemirror_mode": {
    "name": "ipython",
    "version": 3
   },
   "file_extension": ".py",
   "mimetype": "text/x-python",
   "name": "python",
   "nbconvert_exporter": "python",
   "pygments_lexer": "ipython3",
   "version": "3.11.5"
  }
 },
 "nbformat": 4,
 "nbformat_minor": 5
}
